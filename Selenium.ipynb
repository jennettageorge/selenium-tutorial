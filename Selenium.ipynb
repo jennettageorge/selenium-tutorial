{
 "cells": [
  {
   "cell_type": "markdown",
   "metadata": {},
   "source": [
    "## What is selenium?\n",
    "\n",
    "The outline for this tutorial was taken from <a href = 'http://zetcode.com/python/selenium/'> zetcode's selenium tutorial</a>\n",
    "\n",
    "Selenium is a tool to test your web application\n",
    "\n",
    "- permit it to tap on buttons\n",
    "- enter content in structures\n",
    "- skim your site to check withether everything is \"OK\" "
   ]
  },
  {
   "cell_type": "code",
   "execution_count": 1,
   "metadata": {},
   "outputs": [
    {
     "name": "stdout",
     "output_type": "stream",
     "text": [
      "Collecting selenium\n",
      "  Using cached selenium-3.141.0-py2.py3-none-any.whl (904 kB)\n",
      "Requirement already satisfied: urllib3 in /usr/local/anaconda3/lib/python3.7/site-packages (from selenium) (1.25.8)\n",
      "Installing collected packages: selenium\n",
      "Successfully installed selenium-3.141.0\n"
     ]
    }
   ],
   "source": [
    "!pip install selenium"
   ]
  },
  {
   "cell_type": "markdown",
   "metadata": {},
   "source": [
    "## Selenium unittest example\n",
    "\n",
    "`unittest` is a python unit testing framework Unittest supports test automation, sharing of setup and shutdown code for tests, aggregation of tests into collections, and independence of the tests from the reporting framework. \n",
    "\n",
    "Unittest provides a base class `TestCase` which can be used to create new test cases.\n",
    "\n",
    "The `setUp()` is a hook method for setting up the test fixture before exercising it and the `tearDown()` is a hook method for deconstructing the rtest fixture after testing it. \n",
    "\n",
    "A **test ficture** represents the preparation needed to perform one or more tests, for example creating temporary or proxy databases, directories, or starting a server process. A **test case** is the test function which refers to the individual test. \n",
    "\n",
    "**The name of the function must begin with `test`.** \n",
    "\n",
    "The checks are performed with various assertion methods, such as `assertIn()`, `assertTrue()`, `assertEqual()`."
   ]
  },
  {
   "cell_type": "code",
   "execution_count": 38,
   "metadata": {},
   "outputs": [
    {
     "name": "stdout",
     "output_type": "stream",
     "text": [
      "Overwriting unittest_example.py\n"
     ]
    }
   ],
   "source": [
    "%%writefile unittest_example.py\n",
    "import unittest\n",
    "\n",
    "from selenium import webdriver\n",
    "from selenium.webdriver.firefox.options import Options\n",
    "\n",
    "class WebCode(unittest.TestCase):\n",
    "    \n",
    "    def setUp(self):\n",
    "        opts = Options()\n",
    "        opts.headless = True\n",
    "        \n",
    "        self.driver = webdriver.Firefox(options=opts)\n",
    "    \n",
    "    def test_title(self):\n",
    "        \n",
    "        self.driver.get('http://webcode.me')\n",
    "        self.assertIn(\"My html page\", self.driver.title)\n",
    "        \n",
    "        \n",
    "    def test_paragraphs(self):\n",
    "        \n",
    "        self.driver.get('http://webcode.me')\n",
    "        \n",
    "        els = self.driver.find_elements_by_tag_name('p')\n",
    "        \n",
    "        self.assertIn('Today is a beautiful day', els[0].text)\n",
    "        self.assertIn('Hello there', els[1].text)\n",
    "        \n",
    "    def tearDown(self):\n",
    "        self.driver.close()\n",
    "        \n",
    "if __name__ == \"__main__\":\n",
    "    unittest.main()"
   ]
  },
  {
   "cell_type": "code",
   "execution_count": 39,
   "metadata": {},
   "outputs": [
    {
     "name": "stdout",
     "output_type": "stream",
     "text": [
      "..\n",
      "----------------------------------------------------------------------\n",
      "Ran 2 tests in 14.520s\n",
      "\n",
      "OK\n"
     ]
    }
   ],
   "source": [
    "! python3 unittest_example.py"
   ]
  },
  {
   "cell_type": "markdown",
   "metadata": {},
   "source": [
    "## Selenium with PyTest\n",
    "\n",
    "The `pytest` module is a python library for testing Python applications.\n",
    "\n",
    "The pytest looks for `test_*.py` or `*_test.py` files in directories. "
   ]
  },
  {
   "cell_type": "code",
   "execution_count": 40,
   "metadata": {},
   "outputs": [
    {
     "name": "stdout",
     "output_type": "stream",
     "text": [
      "Requirement already satisfied: pytest in /usr/local/anaconda3/lib/python3.7/site-packages (5.3.5)\n",
      "Requirement already satisfied: py>=1.5.0 in /usr/local/anaconda3/lib/python3.7/site-packages (from pytest) (1.8.1)\n",
      "Requirement already satisfied: packaging in /usr/local/anaconda3/lib/python3.7/site-packages (from pytest) (20.1)\n",
      "Requirement already satisfied: attrs>=17.4.0 in /usr/local/anaconda3/lib/python3.7/site-packages (from pytest) (19.3.0)\n",
      "Requirement already satisfied: more-itertools>=4.0.0 in /usr/local/anaconda3/lib/python3.7/site-packages (from pytest) (8.2.0)\n",
      "Requirement already satisfied: pluggy<1.0,>=0.12 in /usr/local/anaconda3/lib/python3.7/site-packages (from pytest) (0.13.1)\n",
      "Requirement already satisfied: wcwidth in /usr/local/anaconda3/lib/python3.7/site-packages (from pytest) (0.1.8)\n",
      "Requirement already satisfied: importlib-metadata>=0.12 in /usr/local/anaconda3/lib/python3.7/site-packages (from pytest) (1.5.0)\n",
      "Requirement already satisfied: six in /usr/local/anaconda3/lib/python3.7/site-packages (from packaging->pytest) (1.14.0)\n",
      "Requirement already satisfied: pyparsing>=2.0.2 in /usr/local/anaconda3/lib/python3.7/site-packages (from packaging->pytest) (2.4.6)\n",
      "Requirement already satisfied: zipp>=0.5 in /usr/local/anaconda3/lib/python3.7/site-packages (from importlib-metadata>=0.12->pytest) (2.2.0)\n"
     ]
    }
   ],
   "source": [
    "! pip install pytest"
   ]
  },
  {
   "cell_type": "code",
   "execution_count": 41,
   "metadata": {},
   "outputs": [],
   "source": [
    "! mkdir tests"
   ]
  },
  {
   "cell_type": "code",
   "execution_count": 54,
   "metadata": {},
   "outputs": [
    {
     "name": "stdout",
     "output_type": "stream",
     "text": [
      "Overwriting Selenium/tests//test_web.py\n"
     ]
    }
   ],
   "source": [
    "%%writefile Selenium/tests//test_web.py\n",
    "#!/usr/bin/env python3\n",
    "\n",
    "import pytest\n",
    "\n",
    "from selenium.webdriver import Firefox\n",
    "from selenium.webdriver.firefox.options import Options\n",
    "\n",
    "\n",
    "@pytest.fixture\n",
    "def browser():\n",
    "\n",
    "    opts = Options()\n",
    "    opts.headless = True\n",
    "    driver = Firefox(options=opts)\n",
    "\n",
    "    driver.implicitly_wait(5)\n",
    "\n",
    "    yield driver\n",
    "\n",
    "    # For cleanup, quit the driver\n",
    "    driver.quit()\n",
    "\n",
    "\n",
    "def test_get_title(browser):\n",
    "    browser.get(\"http://webcode.me\")\n",
    "\n",
    "    assert 'My html page' == browser.title"
   ]
  },
  {
   "cell_type": "code",
   "execution_count": 55,
   "metadata": {},
   "outputs": [],
   "source": [
    "!python3 Selenium/tests/test_web.py"
   ]
  },
  {
   "cell_type": "markdown",
   "metadata": {},
   "source": [
    "## Python Selenium Flask Example\n",
    "\n",
    "In the next example, we create a test case with pytest and Selenium for a Flask web application. We test for a response from an HTML form.\n",
    "\n",
    "    app.py\n",
    "    ├───static\n",
    "    │       greet.html\n",
    "    ├───templates\n",
    "    │       index.html\n",
    "    └───tests\n",
    "            web_test.py\n",
    "            \n",
    "#### 1- `greet.html` we have a greet form in the static resources, ther form sends a text value to the flask app\n",
    "\n",
    "#### 2- `index.html` This is the Flask template file, which returns a message back to the client\n",
    "\n",
    "#### 3- `app.py` The Flask app has 2 routes: one for the homepage and one for the greeting\n",
    "\n",
    "#### 4- `web_test.py` contains a test case for the greet form\n"
   ]
  },
  {
   "cell_type": "code",
   "execution_count": 56,
   "metadata": {},
   "outputs": [
    {
     "name": "stdout",
     "output_type": "stream",
     "text": [
      "mkdir: Selenium/tests: File exists\r\n"
     ]
    }
   ],
   "source": [
    "!mkdir Selenium/static \n",
    "!mkdir Selenium/templates"
   ]
  },
  {
   "cell_type": "code",
   "execution_count": 57,
   "metadata": {},
   "outputs": [
    {
     "name": "stdout",
     "output_type": "stream",
     "text": [
      "Writing Selenium/static/greet.html\n"
     ]
    }
   ],
   "source": [
    "%%writefile Selenium/static/greet.html\n",
    "\n",
    "<!doctype html>\n",
    "<html lang=\"en\">\n",
    "\n",
    "<head>\n",
    "    <meta charset=\"UTF-8\">\n",
    "    <meta name=\"viewport\" content=\"width=device-width, initial-scale=1.0\">\n",
    "    <title>Greet form</title>\n",
    "</head>\n",
    "\n",
    "<body>\n",
    "\n",
    "    <p>Enter your name:</p>\n",
    "\n",
    "    <form id=\"myform\" action=\"greet\">\n",
    "\n",
    "        <input name=\"name\" type=\"text\">\n",
    "        <button type=\"submit\">Submit</button>\n",
    "\n",
    "    </form>\n",
    "\n",
    "</body>\n",
    "\n",
    "</html>\n"
   ]
  },
  {
   "cell_type": "code",
   "execution_count": 58,
   "metadata": {},
   "outputs": [
    {
     "name": "stdout",
     "output_type": "stream",
     "text": [
      "Writing Selenium/templates/index.html\n"
     ]
    }
   ],
   "source": [
    "%%writefile Selenium/templates/index.html\n",
    "\n",
    "<!doctype html>\n",
    "<html lang=\"en\">\n",
    "\n",
    "<head>\n",
    "    <meta charset=\"utf-8\">\n",
    "    <title>Greeting</title>\n",
    "</head>\n",
    "\n",
    "<body>\n",
    "    <p>\n",
    "        Hello {{ name }}\n",
    "    </p>\n",
    "</body>\n",
    "\n",
    "</html>"
   ]
  },
  {
   "cell_type": "code",
   "execution_count": 59,
   "metadata": {},
   "outputs": [
    {
     "name": "stdout",
     "output_type": "stream",
     "text": [
      "Writing Selenium/app.py\n"
     ]
    }
   ],
   "source": [
    "%%writefile Selenium/app.py\n",
    "\n",
    "#!/usr/bin/env python3\n",
    "\n",
    "from flask import Flask, render_template, request\n",
    "\n",
    "app = Flask(__name__)\n",
    "\n",
    "\n",
    "@app.route(\"/\")\n",
    "def home():\n",
    "    return app.send_static_file('greet.html')\n",
    "\n",
    "\n",
    "@app.route(\"/greet\")\n",
    "def greet():\n",
    "    username = request.args.get('name')\n",
    "    return render_template('index.html', name=username)\n",
    "\n",
    "\n",
    "if __name__ == \"__main__\":\n",
    "    app.run()"
   ]
  },
  {
   "cell_type": "code",
   "execution_count": 60,
   "metadata": {},
   "outputs": [
    {
     "name": "stdout",
     "output_type": "stream",
     "text": [
      "Writing Selenium/tests/web_test.py\n"
     ]
    }
   ],
   "source": [
    "%%writefile Selenium/tests/web_test.py\n",
    "#!/usr/bin/env python3\n",
    "\n",
    "import pytest\n",
    "\n",
    "from selenium.webdriver import Firefox\n",
    "from selenium.webdriver.firefox.options import Options\n",
    "from selenium.webdriver.support import expected_conditions as ec\n",
    "from selenium.webdriver.support.wait import WebDriverWait\n",
    "\n",
    "\n",
    "@pytest.fixture\n",
    "def browser():\n",
    "    opts = Options()\n",
    "    opts.headless = True\n",
    "    driver = Firefox(options=opts)\n",
    "\n",
    "    driver.implicitly_wait(10)\n",
    "\n",
    "    yield driver\n",
    "\n",
    "    # For cleanup, quit the driver\n",
    "    driver.quit()\n",
    "\n",
    "\n",
    "def test_greet_form(browser):\n",
    "    user_name = \"John\"\n",
    "\n",
    "    browser.get('http://localhost:5000/')\n",
    "\n",
    "    form = browser.find_element_by_id(\"myform\")\n",
    "    name = browser.find_element_by_name(\"name\")\n",
    "    name.send_keys(user_name)\n",
    "\n",
    "    form.submit()\n",
    "\n",
    "    WebDriverWait(browser, 12).until(ec.url_matches('/greet'),\n",
    "                                     'Timed out waiting for response')\n",
    "\n",
    "    content = browser.page_source\n",
    "    print(content)\n",
    "    assert 'Hello John' in content"
   ]
  },
  {
   "cell_type": "code",
   "execution_count": 61,
   "metadata": {},
   "outputs": [],
   "source": [
    "!set FLASK_APP=app.py"
   ]
  },
  {
   "cell_type": "code",
   "execution_count": 62,
   "metadata": {},
   "outputs": [
    {
     "name": "stdout",
     "output_type": "stream",
     "text": [
      " * Environment: production\n",
      "\u001b[31m   WARNING: This is a development server. Do not use it in a production deployment.\u001b[0m\n",
      "\u001b[2m   Use a production WSGI server instead.\u001b[0m\n",
      " * Debug mode: off\n",
      " * Running on http://127.0.0.1:5000/ (Press CTRL+C to quit)\n",
      "^C\n"
     ]
    }
   ],
   "source": [
    "!flask run"
   ]
  },
  {
   "cell_type": "markdown",
   "metadata": {},
   "source": [
    "### Now, in another terminal, run `pytest` to see the results of the test"
   ]
  },
  {
   "cell_type": "code",
   "execution_count": null,
   "metadata": {},
   "outputs": [],
   "source": []
  }
 ],
 "metadata": {
  "kernelspec": {
   "display_name": "Python 3",
   "language": "python",
   "name": "python3"
  },
  "language_info": {
   "codemirror_mode": {
    "name": "ipython",
    "version": 3
   },
   "file_extension": ".py",
   "mimetype": "text/x-python",
   "name": "python",
   "nbconvert_exporter": "python",
   "pygments_lexer": "ipython3",
   "version": "3.7.6"
  }
 },
 "nbformat": 4,
 "nbformat_minor": 4
}
